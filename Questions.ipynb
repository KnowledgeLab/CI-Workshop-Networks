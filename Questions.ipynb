{
 "metadata": {
  "name": "",
  "signature": "sha256:9ef171fcf41946ca39d0b3acd1986d492cae8dae9dad2f53a8aa27f331f7cbee"
 },
 "nbformat": 3,
 "nbformat_minor": 0,
 "worksheets": [
  {
   "cells": [
    {
     "cell_type": "code",
     "collapsed": false,
     "input": [
      "%matplotlib inline\n",
      "import pylab as plt\n",
      "from collections import Counter\n",
      "from igraph import * \n",
      "import numpy as np\n",
      "import pandas as pd\n",
      "import random\n",
      "\n",
      "from IPython.display import Image\n",
      "\n",
      "# a function for plotting graphs, in case igraph's plot does not work\n",
      "def drawgraph(g,layout,vertex_label='',vertex_size=150,vertex_color='skyblue'):\n",
      "    plt.figure(figsize=(10,10))\n",
      "    X=np.array(layout.coords)\n",
      "    for e in g.es:\n",
      "        plt.plot(X[[e.source,e.target],0],X[[e.source,e.target],1],'grey',lw=1)\n",
      "    plt.scatter(X[:,0],X[:,1],s=vertex_size,c=vertex_color)\n",
      "    if vertex_label:\n",
      "        for i in xrange(X.shape[0]):\n",
      "            plt.text(X[i,0],X[i,1],vertex_label[i])\n",
      "    plt.axis('off')"
     ],
     "language": "python",
     "metadata": {},
     "outputs": [],
     "prompt_number": 12
    },
    {
     "cell_type": "heading",
     "level": 3,
     "metadata": {},
     "source": [
      "Q1: where to start to analyze a network?"
     ]
    },
    {
     "cell_type": "code",
     "collapsed": false,
     "input": [
      "# Load the network\n",
      "g=Graph.Read_Pajek('florentine.paj')"
     ],
     "language": "python",
     "metadata": {},
     "outputs": [],
     "prompt_number": 2
    },
    {
     "cell_type": "code",
     "collapsed": false,
     "input": [
      "# Check centrality of nodes\n",
      "g.pagerank()"
     ],
     "language": "python",
     "metadata": {},
     "outputs": [
      {
       "metadata": {},
       "output_type": "pyout",
       "prompt_number": 5,
       "text": [
        "[0.044667315646271855,\n",
        " 0.0737845734289762,\n",
        " 0.05386854371348443,\n",
        " 0.062487382564306575,\n",
        " 0.06494984518032403,\n",
        " 0.0473709526108385,\n",
        " 0.08456096868798106,\n",
        " 0.04590274096483154,\n",
        " 0.10940015441701152,\n",
        " 0.05101745667228176,\n",
        " 0.06267712721608579,\n",
        " 0.03691813804173354,\n",
        " 0.0612016695272805,\n",
        " 0.06634973473199163,\n",
        " 0.07252124151086645,\n",
        " 0.06232215508573459]"
       ]
      }
     ],
     "prompt_number": 5
    },
    {
     "cell_type": "code",
     "collapsed": false,
     "input": [
      "# Check betweenness of nodes\n",
      "g.betweenness()"
     ],
     "language": "python",
     "metadata": {},
     "outputs": [
      {
       "metadata": {},
       "output_type": "pyout",
       "prompt_number": 6,
       "text": [
        "[0.0,\n",
        " 19.333333333333332,\n",
        " 8.5,\n",
        " 9.5,\n",
        " 5.0,\n",
        " 0.0,\n",
        " 23.166666666666664,\n",
        " 0.0,\n",
        " 47.5,\n",
        " 0.0,\n",
        " 2.0,\n",
        " 0.0,\n",
        " 10.333333333333332,\n",
        " 13.0,\n",
        " 9.333333333333334,\n",
        " 8.333333333333334]"
       ]
      }
     ],
     "prompt_number": 6
    },
    {
     "cell_type": "code",
     "collapsed": false,
     "input": [
      "# Find communities of nodes\n",
      "comm=g.community_leading_eigenvector()\n",
      "for c in comm:\n",
      "    print c"
     ],
     "language": "python",
     "metadata": {},
     "outputs": [
      {
       "output_type": "stream",
       "stream": "stdout",
       "text": [
        "[0, 2, 8, 9, 12, 13]\n",
        "[11]\n",
        "[3, 4, 10, 14]\n",
        "[1, 5, 6, 7, 15]\n"
       ]
      }
     ],
     "prompt_number": 8
    },
    {
     "cell_type": "heading",
     "level": 3,
     "metadata": {},
     "source": [
      "Q2: How to load an edgelist with weighted edges?"
     ]
    },
    {
     "cell_type": "code",
     "collapsed": false,
     "input": [
      "g=Graph.Read_Ncol('test.txt')"
     ],
     "language": "python",
     "metadata": {},
     "outputs": [],
     "prompt_number": 10
    },
    {
     "cell_type": "code",
     "collapsed": false,
     "input": [
      "drawgraph(g,layout=g.layout('kk'))"
     ],
     "language": "python",
     "metadata": {},
     "outputs": [
      {
       "metadata": {},
       "output_type": "display_data",
       "png": "[encoded data removed]",
       "text": [
        "<matplotlib.figure.Figure at 0x10cbd1b50>"
       ]
      }
     ],
     "prompt_number": 15
    },
    {
     "cell_type": "code",
     "collapsed": false,
     "input": [
      "# Save the network as gml file so it can be opened in Gephi\n",
      "g.write_gml('test2.gml')"
     ],
     "language": "python",
     "metadata": {},
     "outputs": [],
     "prompt_number": 17
    }
   ],
   "metadata": {}
  }
 ]
}